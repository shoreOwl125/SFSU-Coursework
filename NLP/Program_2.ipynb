{
  "nbformat": 4,
  "nbformat_minor": 0,
  "metadata": {
    "colab": {
      "provenance": []
    },
    "kernelspec": {
      "name": "python3",
      "display_name": "Python 3"
    },
    "language_info": {
      "name": "python"
    }
  },
  "cells": [
    {
      "cell_type": "code",
      "execution_count": 15,
      "metadata": {
        "id": "ZRnju3nOwsW2"
      },
      "outputs": [],
      "source": [
        "import pandas as pd\n",
        "import numpy as np"
      ]
    },
    {
      "cell_type": "code",
      "source": [
        "# Load dataset\n",
        "path = '/content/drive/MyDrive/Colab Notebooks/CSC 820/transcripts.csv'\n",
        "data = pd.read_csv(path)"
      ],
      "metadata": {
        "id": "RmFFTq5HyH8S"
      },
      "execution_count": 16,
      "outputs": []
    },
    {
      "cell_type": "code",
      "source": [
        "# Adjust sample size depending on amount of time you have to run program\n",
        "reduced_data = data.sample(frac=0.01, random_state=42)\n",
        "documents = reduced_data['transcript'].tolist()\n",
        "# Query strings\n",
        "query1 = \"life learning\"\n",
        "query2 = \"hard work\"\n",
        "query3 = \"self actualization\""
      ],
      "metadata": {
        "id": "3EzavHoXyLVb"
      },
      "execution_count": 17,
      "outputs": []
    },
    {
      "cell_type": "code",
      "source": [
        "# Normalized Term Frequency\n",
        "def termFrequency(term, document):\n",
        "    normalizeDocument = document.lower().split()\n",
        "    return normalizeDocument.count(term.lower()) / float(len(normalizeDocument))\n"
      ],
      "metadata": {
        "id": "Mjgk2FJJyNsb"
      },
      "execution_count": 18,
      "outputs": []
    },
    {
      "cell_type": "code",
      "source": [
        "# Compute normalized term frequency for a list of documents\n",
        "def compute_normalizedtf(documents):\n",
        "    tf_doc = []\n",
        "    for txt in documents:\n",
        "        sentence = txt.split()\n",
        "        norm_tf = dict.fromkeys(set(sentence), 0)\n",
        "        for word in sentence:\n",
        "            norm_tf[word] = termFrequency(word, txt)\n",
        "        tf_doc.append(norm_tf)\n",
        "    return tf_doc\n",
        "tf_doc = compute_normalizedtf(documents)"
      ],
      "metadata": {
        "id": "owbj14LeyQJM"
      },
      "execution_count": 19,
      "outputs": []
    },
    {
      "cell_type": "code",
      "source": [
        "# Compute term frequency for the query string\n",
        "def compute_query_tf(query):\n",
        "    query_norm_tf = {}\n",
        "    tokens = query.split()\n",
        "    for word in tokens:\n",
        "        query_norm_tf[word] = termFrequency(word, query)\n",
        "    return query_norm_tf\n",
        "\n",
        "query_norm_tf = compute_query_tf(query1)"
      ],
      "metadata": {
        "id": "pPoXkxMoyTq4"
      },
      "execution_count": 20,
      "outputs": []
    },
    {
      "cell_type": "code",
      "source": [
        "# Calculate cosine similarity using only term frequency\n",
        "def cosine_similarity(query_tf, document_tf, query):\n",
        "    dot_product = 0\n",
        "    qry_mod = 0\n",
        "    doc_mod = 0\n",
        "    tokens = query.split()\n",
        "\n",
        "    for word in tokens:\n",
        "        word_tf_query = query_tf.get(word, 0)\n",
        "        word_tf_doc = document_tf.get(word, 0)\n",
        "        dot_product += word_tf_query * word_tf_doc\n",
        "        qry_mod += word_tf_query ** 2\n",
        "        doc_mod += word_tf_doc ** 2\n",
        "\n",
        "    qry_mod = np.sqrt(qry_mod)\n",
        "    doc_mod = np.sqrt(doc_mod)\n",
        "    if qry_mod * doc_mod == 0:\n",
        "        return 0  # To handle division by zero if either vector magnitude is zero\n",
        "    return dot_product / (qry_mod * doc_mod)\n",
        "\n",
        "# Compute cosine similarity for each document\n",
        "def rank_similarity_docs(documents, query_tf):\n",
        "    cos_sim = []\n",
        "    for index, doc_tf in enumerate(tf_doc):\n",
        "        cos_sim.append(cosine_similarity(query_tf, doc_tf, query))\n",
        "    return cos_sim\n",
        "\n",
        "similarity_scores = rank_similarity_docs(documents, query_norm_tf)\n",
        "\n",
        "# Print the similarity scores\n",
        "for doc_index, score in enumerate(similarity_scores):\n",
        "    print(f\"Document {doc_index + 1}: Cosine Similarity = {score:.4f}\")"
      ],
      "metadata": {
        "colab": {
          "base_uri": "https://localhost:8080/"
        },
        "id": "MqAYhTL-yWVL",
        "outputId": "58bd76bf-5ee2-4c1d-da38-2f703525cffe"
      },
      "execution_count": 21,
      "outputs": [
        {
          "output_type": "stream",
          "name": "stdout",
          "text": [
            "Document 1: Cosine Similarity = 0.0000\n",
            "Document 2: Cosine Similarity = 0.9487\n",
            "Document 3: Cosine Similarity = 0.7071\n",
            "Document 4: Cosine Similarity = 0.0000\n",
            "Document 5: Cosine Similarity = 0.0000\n",
            "Document 6: Cosine Similarity = 0.8321\n",
            "Document 7: Cosine Similarity = 0.7071\n",
            "Document 8: Cosine Similarity = 0.7071\n",
            "Document 9: Cosine Similarity = 0.0000\n",
            "Document 10: Cosine Similarity = 0.7071\n",
            "Document 11: Cosine Similarity = 0.0000\n",
            "Document 12: Cosine Similarity = 1.0000\n",
            "Document 13: Cosine Similarity = 0.0000\n",
            "Document 14: Cosine Similarity = 0.7071\n",
            "Document 15: Cosine Similarity = 0.0000\n",
            "Document 16: Cosine Similarity = 0.0000\n",
            "Document 17: Cosine Similarity = 0.0000\n",
            "Document 18: Cosine Similarity = 0.7071\n",
            "Document 19: Cosine Similarity = 0.7071\n",
            "Document 20: Cosine Similarity = 0.7071\n",
            "Document 21: Cosine Similarity = 0.0000\n",
            "Document 22: Cosine Similarity = 0.0000\n",
            "Document 23: Cosine Similarity = 0.0000\n",
            "Document 24: Cosine Similarity = 0.0000\n",
            "Document 25: Cosine Similarity = 0.0000\n"
          ]
        }
      ]
    }
  ]
}